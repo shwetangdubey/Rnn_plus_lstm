{
 "cells": [
  {
   "cell_type": "code",
   "execution_count": 1,
   "id": "1ca8a09d",
   "metadata": {},
   "outputs": [],
   "source": [
    "import torch"
   ]
  },
  {
   "cell_type": "code",
   "execution_count": 2,
   "id": "d39dc227",
   "metadata": {},
   "outputs": [],
   "source": [
    "import torch.nn as nn\n",
    "import torch.functional as F\n",
    "import torch.optim as optim\n",
    "import numpy as np\n",
    "import os\n",
    "import torchvision\n",
    "import torchvision.transforms as transforms"
   ]
  },
  {
   "cell_type": "code",
   "execution_count": 3,
   "id": "4eba4b14",
   "metadata": {},
   "outputs": [],
   "source": [
    "import matplotlib.pyplot as plt\n",
    "%matplotlib inline\n",
    "import sklearn.metrics\n",
    "import seaborn as sns\n",
    "import random"
   ]
  },
  {
   "cell_type": "code",
   "execution_count": 4,
   "id": "47a251db",
   "metadata": {},
   "outputs": [],
   "source": [
    "#to display youtube videos\n",
    "from IPython.display import YouTubeVideo"
   ]
  },
  {
   "cell_type": "code",
   "execution_count": 5,
   "id": "53b74b82",
   "metadata": {},
   "outputs": [
    {
     "name": "stdout",
     "output_type": "stream",
     "text": [
      "device used is cuda\n"
     ]
    }
   ],
   "source": [
    "def set_seed(seed = 1234):\n",
    "    random.seed(seed)\n",
    "    np.random.seed(seed)\n",
    "    torch.manual_seed(seed)\n",
    "    torch.cuda.manual_seed(seed)\n",
    "    \n",
    "    torch.backends.cudnn.deterministics = True\n",
    "    \n",
    "    os.environ['PYTHONHASHSEED'] = str(seed)\n",
    "    \n",
    "set_seed()\n",
    "\n",
    "device = torch.device('cuda' if torch.cuda.is_available() else 'cpu')\n",
    "print(\"device used is {}\".format(device))\n",
    "    "
   ]
  },
  {
   "cell_type": "code",
   "execution_count": 10,
   "id": "ec2550dc",
   "metadata": {},
   "outputs": [
    {
     "name": "stdout",
     "output_type": "stream",
     "text": [
      "torch.Size([4, 4])\n",
      "torch.Size([4, 4])\n"
     ]
    }
   ],
   "source": [
    "n_input = 4\n",
    "n_neuron = 1\n",
    "\n",
    "input_1 = torch.tensor([[1,2,1,2],[14,1,15,2],[12,11,5,6],[6,4,5,7]],dtype = torch.float32)\n",
    "print(input_1.shape)\n",
    "\n",
    "input_2 = torch.tensor([[1,2,4,2],[1,5,4,7],[14,15,16,14],[1,0,2,0]], dtype = torch.float32)\n",
    "print(input_2.shape)"
   ]
  },
  {
   "cell_type": "code",
   "execution_count": 11,
   "id": "38a92308",
   "metadata": {},
   "outputs": [],
   "source": [
    "class RnnVnilla(nn.Module):\n",
    "    #init function where we create architecture\n",
    "    def __init__(self, n_input, n_neuron):\n",
    "        super(RnnVnilla, self).__init__()\n",
    "        \n",
    "        #intially weights are random\n",
    "        #U contains connections weights between input and current time step\n",
    "        \n",
    "        self.U = torch.randn(n_input, n_neuron)\n",
    "        #W is connection between ouput of one time step to input of next time step\n",
    "        \n",
    "        self.W = torch.randn(n_neuron, n_neuron)\n",
    "        \n",
    "        #bias \n",
    "        self.b = torch.zeros(1, n_neuron)\n",
    "        \n",
    "    #forward fuction where we apply achitecture to the input\n",
    "    \n",
    "    def forward(self, input_0, input_1):\n",
    "        self.layer1 = torch.tanh(torch.matmul(input_0, self.U) + self.b)\n",
    "        self.layer2 = torch.tanh(torch.matmul(self.layer1, self.W) + torch.matmul(input_1, self.U) + self.b)\n",
    "        return self.layer1, self.layer2\n",
    "    \n",
    "\n",
    "    \n",
    "        \n",
    "        \n",
    "    "
   ]
  },
  {
   "cell_type": "code",
   "execution_count": 13,
   "id": "44908d03",
   "metadata": {},
   "outputs": [
    {
     "name": "stdout",
     "output_type": "stream",
     "text": [
      "tensor([[0.8093],\n",
      "        [1.0000],\n",
      "        [1.0000],\n",
      "        [1.0000]]) \n",
      " tensor([[0.9999],\n",
      "        [0.9998],\n",
      "        [1.0000],\n",
      "        [0.9994]])\n"
     ]
    }
   ],
   "source": [
    "rnn_vanilla = RnnVnilla(n_input, n_neuron)\n",
    "\n",
    "output0, output1 = rnn_vanilla(input_1, input_2)\n",
    "print(output0, \"\\n\", output1)"
   ]
  },
  {
   "cell_type": "code",
   "execution_count": 16,
   "id": "97107600",
   "metadata": {},
   "outputs": [
    {
     "name": "stdout",
     "output_type": "stream",
     "text": [
      "torch.Size([4, 3]) torch.Size([4, 3])\n"
     ]
    }
   ],
   "source": [
    "#single layer multiple neurons\n",
    "\n",
    "input_1 = torch.tensor([[1,2,3],[3,4,5],[4,5,6],[1,1,1]], dtype = torch.float32)\n",
    "input_2 = torch.tensor([[15,16,17],[17,18,19],[19,20,21],[2,2,2]],dtype = torch.float32)\n",
    "print(input_1.shape, input_2.shape)"
   ]
  },
  {
   "cell_type": "code",
   "execution_count": 17,
   "id": "4b50c817",
   "metadata": {},
   "outputs": [
    {
     "name": "stdout",
     "output_type": "stream",
     "text": [
      "output of the layers are: output 1 = tensor([[-0.1889, -0.9931, -0.8588,  0.9858],\n",
      "        [-0.2641, -0.9997, -0.9874,  0.9910],\n",
      "        [-0.3005, -0.9999, -0.9963,  0.9928],\n",
      "        [-0.0396, -0.6759, -0.5510,  0.1131]]) \n",
      " output 2 = tensor([[-0.2954, -1.0000, -1.0000,  1.0000],\n",
      "        [-0.2573, -1.0000, -1.0000,  1.0000],\n",
      "        [-0.3105, -1.0000, -1.0000,  1.0000],\n",
      "        [-0.5174, -0.5021,  0.1257,  0.9158]])\n"
     ]
    }
   ],
   "source": [
    "n_input = 3\n",
    "n_neuron = 4\n",
    "\n",
    "multi_rnn = RnnVnilla(n_input, n_neuron)\n",
    "\n",
    "output_1, output_2 = multi_rnn(input_1, input_2)\n",
    "print(\"output of the layers are: output 1 = {} \\n output 2 = {}\".format(output_1, output_2))"
   ]
  },
  {
   "cell_type": "code",
   "execution_count": 20,
   "id": "82ab9f75",
   "metadata": {},
   "outputs": [
    {
     "name": "stdout",
     "output_type": "stream",
     "text": [
      "U : tensor([[ 0.1021, -0.2590, -0.1549, -1.3706],\n",
      "        [-0.1319,  0.8848, -0.2611,  0.6104],\n",
      "        [-0.0098, -1.4473, -0.2039,  0.8738]]) \n",
      " W : tensor([[-0.3393,  0.1559,  0.8966, -0.2968],\n",
      "        [ 1.5985, -0.0469, -1.5270, -2.0143],\n",
      "        [-0.7690, -1.5606, -0.5309,  0.2178],\n",
      "        [ 1.3232,  1.8169,  0.6808,  0.7244]]) \n",
      " B: tensor([[0., 0., 0., 0.]])\n"
     ]
    }
   ],
   "source": [
    "#weights and other parameters of network\n",
    "print(f\"U : {multi_rnn.U} \\n W : {multi_rnn.W} \\n B: { multi_rnn.b}\")"
   ]
  },
  {
   "cell_type": "code",
   "execution_count": 6,
   "id": "a1535057",
   "metadata": {},
   "outputs": [],
   "source": [
    "my_transform = transforms.Compose([transforms.ToTensor()])\n",
    "train_data = torchvision.datasets.MNIST('data', train= True, transform=my_transform, download= True)\n",
    "test_data = torchvision.datasets.MNIST('data', train= False, transform= my_transform, download = True)"
   ]
  },
  {
   "cell_type": "code",
   "execution_count": 54,
   "id": "44b93209",
   "metadata": {},
   "outputs": [],
   "source": [
    "#Rnn architecture for Mnist dataset\n",
    "\n",
    "class Rnn_for_MNIST(nn.Module):\n",
    "    def __init__(self, batch_size, in_size, hidden_size, out_size):\n",
    "        super(Rnn_for_MNIST, self).__init__()\n",
    "        self.batch_size, self.in_size, self.hidden_size, self.out_size = batch_size, in_size, hidden_size, out_size\n",
    "        self.Rnn = nn.RNN(in_size, hidden_size)\n",
    "        #fully connected layer\n",
    "        self.Fc_layer = nn.Linear(hidden_size, self.out_size)\n",
    "        \n",
    "    def forward(self, image, prints = False):\n",
    "        if prints :print(\"Shape of input image: {}\".format(image.shape))\n",
    "        image = image.permute(1,0,2)\n",
    "        \n",
    "        if prints : print(\"shape of permuted image :\",image.shape)\n",
    "            \n",
    "        #Intialize hidden state with zeros\n",
    "        \n",
    "        hidden_state = torch.zeros(1, self.batch_size, self.hidden_size)\n",
    "        \n",
    "        if prints : print(\"Shape of hidden state = \", hidden_state.shape)\n",
    "        \n",
    "        #creating Rnn\n",
    "        \n",
    "        hidden_outputs, hidden_state = self.Rnn(image, hidden_state)\n",
    "        #Log probabilities\n",
    "        \n",
    "        out = self.Fc_layer(hidden_state)\n",
    "        \n",
    "        if prints :print(\"--hidden_output\", hidden_outputs.shape,\"\\n\"+ \"--hidden_state shape\", hidden_state.shape, \"\\n\" + \"--out shape:\", out.shape)\n",
    "        \n",
    "        out = out.view(-1, self.out_size)\n",
    "        if prints: print(\"out shape:\", out.shape)\n",
    "        return out"
   ]
  },
  {
   "cell_type": "code",
   "execution_count": 37,
   "id": "f9a8e441",
   "metadata": {},
   "outputs": [],
   "source": [
    "batch_size = 64\n",
    "in_size = 28\n",
    "out_size = 10\n",
    "hidden_size = 150\n"
   ]
  },
  {
   "cell_type": "code",
   "execution_count": 38,
   "id": "78f2540f",
   "metadata": {},
   "outputs": [
    {
     "name": "stdout",
     "output_type": "stream",
     "text": [
      "<torch.utils.data.dataloader.DataLoader object at 0x000001E4CAAB06D0>\n",
      "image shape (input): torch.Size([64, 1, 28, 28])\n",
      "reshaped image shape: torch.Size([64, 28, 28])\n",
      "Shape of input image: torch.Size([64, 28, 28])\n",
      "shape of permuted image : torch.Size([28, 64, 28])\n",
      "Shape of hidden state =  torch.Size([1, 64, 150])\n",
      "--hidden_output torch.Size([28, 64, 150]) \n",
      "--hidden_state shape torch.Size([1, 64, 150]) \n",
      "--out shape: torch.Size([1, 64, 10])\n",
      "out shape: torch.Size([64, 10])\n"
     ]
    }
   ],
   "source": [
    "#create dataloader to select batch from it\n",
    "train_loader = torch.utils.data.DataLoader(train_data, batch_size = 64)\n",
    "print(train_loader)\n",
    "\n",
    "#select one batch from the loader \n",
    "\n",
    "image_example, label_example = next(iter(train_loader))\n",
    "print(\"image shape (input):\", image_example.shape)\n",
    "#reshape\n",
    "\n",
    "image_example = image_example.reshape(-1, 28,28)\n",
    "\n",
    "print(\"reshaped image shape:\", image_example.shape)\n",
    "\n",
    "Rnnmodel = Rnn_for_MNIST(batch_size = batch_size, in_size = in_size, hidden_size = hidden_size, out_size=out_size)\n",
    "\n",
    "out = Rnnmodel(image_example,prints = True)\n",
    "\n",
    "\n"
   ]
  },
  {
   "cell_type": "code",
   "execution_count": 42,
   "id": "c03c8f47",
   "metadata": {},
   "outputs": [
    {
     "name": "stdout",
     "output_type": "stream",
     "text": [
      "length of model parametrs: 6 \n",
      "parameter U: torch.Size([150, 28]) \n",
      "Parameter W: torch.Size([150, 150]) \n",
      "Parameter2 Bias: torch.Size([150]) \n",
      "parameter 3 Bias: torch.Size([150]) \n",
      "Parameter 4 FNN weights: torch.Size([10, 150]) \n",
      "paranmetr 5 Predictions: torch.Size([10])\n"
     ]
    }
   ],
   "source": [
    "#understand model parameters\n",
    "print(\"length of model parametrs:\", len(list(Rnnmodel.parameters())), \"\\n\" + \n",
    "      'parameter U:',list(Rnnmodel.parameters())[0].shape,\"\\n\" + \"Parameter W:\",list(Rnnmodel.parameters())[1].shape, \"\\n\" + \"Parameter2 Bias:\",list(Rnnmodel.parameters())[2].shape, \"\\n\" + \"parameter 3 Bias:\", list(Rnnmodel.parameters())[3].shape, \"\\n\" + \"Parameter 4 FNN weights:\", list(Rnnmodel.parameters())[4].shape, \"\\n\"+\n",
    "      \"paranmetr 5 Predictions:\",list(Rnnmodel.parameters())[5].shape)"
   ]
  },
  {
   "cell_type": "code",
   "execution_count": 47,
   "id": "2a107acf",
   "metadata": {},
   "outputs": [
    {
     "name": "stdout",
     "output_type": "stream",
     "text": [
      "tensor([7, 1, 7, 1, 1, 1, 1, 1, 1, 1, 1, 1, 1, 1, 1, 1, 1, 1, 1, 1, 1, 1, 1, 1,\n",
      "        1, 1, 1, 1, 7, 1, 1, 7, 1, 1, 1, 1, 1, 1, 1, 1, 1, 1, 1, 1, 7, 1, 1, 1,\n",
      "        1, 1, 1, 1, 1, 1, 1, 1, 7, 1, 1, 1, 1, 1, 1, 1])\n"
     ]
    }
   ],
   "source": [
    "print(out.max(dim = 1)[1])"
   ]
  },
  {
   "cell_type": "code",
   "execution_count": 28,
   "id": "6a6718b2",
   "metadata": {},
   "outputs": [],
   "source": [
    "def get_accuracy(out, actual_labels, batch_size):\n",
    "    prediction = out.max(dim = 1)[1]\n",
    "    correct = (prediction == actual_labels).sum().item()\n",
    "    accuracy = correct/ batch_size\n",
    "    \n",
    "    return accuracy\n",
    "\n",
    "\n",
    "        "
   ]
  },
  {
   "cell_type": "code",
   "execution_count": 56,
   "id": "4b39d959",
   "metadata": {},
   "outputs": [],
   "source": [
    "def train_network(model, train_data, test_data, batch_size = 64, num_epoch = 1, learning_rate = 0.001):\n",
    "    print(\"Get data ready\")\n",
    "    train_loader = torch.utils.data.DataLoader(train_data, batch_size = batch_size, shuffle= True, drop_last= True)\n",
    "    test_loader = torch.utils.data.DataLoader(test_data, batch_size = batch_size, shuffle = True, drop_last = True)\n",
    "    \n",
    "    criterion = nn.CrossEntropyLoss()\n",
    "    optimizer = optim.Adam(model.parameters(), lr = learning_rate, weight_decay= 0.001)\n",
    "    \n",
    "    print(\"Training started\")\n",
    "    \n",
    "    #training the data multiple time\n",
    "    \n",
    "    for epoch in range(num_epoch):\n",
    "        \n",
    "        \n",
    "        #save train and test loss\n",
    "        train_loss = 0\n",
    "        train_accuracy = 0\n",
    "        \n",
    "        #set model in training mode\n",
    "        model.train()\n",
    "        \n",
    "        for k, (images, labels) in enumerate(train_loader):\n",
    "            images = images.view(-1,28,28)\n",
    "            \n",
    "            #create log probabilities\n",
    "            out = model(images)\n",
    "            \n",
    "            #clear the gradients from previous iterations\n",
    "            optimizer.zero_grad()\n",
    "            \n",
    "            #compute loss: how far the prediciton from the actual\n",
    "            \n",
    "            loss = criterion(out, labels)\n",
    "            #compute gradients for neurons\n",
    "            loss.backward()\n",
    "            \n",
    "            optimizer.step()\n",
    "            \n",
    "            train_loss += loss.item()\n",
    "            train_accuracy += get_accuracy(out, labels, batch_size)\n",
    "            \n",
    "            \n",
    "        #Print average train accuraccy for each epoch\n",
    "        print(\"Train | epoch:{} | Loss:{:.2f} | accuracy:{:2f}\".format(epoch +1, train_loss / k, train_accuracy / k))\n",
    "        \n",
    "    print(\"Testing started\")\n",
    "    \n",
    "    model.eval()\n",
    "    \n",
    "    test_acc = 0\n",
    "    \n",
    "    for k, (images, labels) in enumerate(test_loader):\n",
    "        #chaging channels of images\n",
    "        images = images.view(-1,28,28)\n",
    "        \n",
    "        #input to model\n",
    "        \n",
    "        out = model(images)\n",
    "        \n",
    "        #finding accuracy\n",
    "        test_acc += get_accuracy(out, labels,batch_size)\n",
    "    print(\"Test accuracy as per {} dataLoader is {:.2f}\".format(k, test_acc / k))"
   ]
  },
  {
   "cell_type": "code",
   "execution_count": 61,
   "id": "44323936",
   "metadata": {},
   "outputs": [
    {
     "name": "stdout",
     "output_type": "stream",
     "text": [
      "Get data ready\n",
      "Training started\n",
      "Train | epoch:1 | Loss:1.15 | accuracy:0.583801\n",
      "Train | epoch:2 | Loss:0.57 | accuracy:0.822466\n",
      "Train | epoch:3 | Loss:0.34 | accuracy:0.901008\n",
      "Train | epoch:4 | Loss:0.27 | accuracy:0.923494\n",
      "Train | epoch:5 | Loss:0.22 | accuracy:0.939002\n",
      "Train | epoch:6 | Loss:0.19 | accuracy:0.945847\n",
      "Train | epoch:7 | Loss:0.16 | accuracy:0.954310\n",
      "Train | epoch:8 | Loss:0.15 | accuracy:0.957849\n",
      "Train | epoch:9 | Loss:0.14 | accuracy:0.961789\n",
      "Train | epoch:10 | Loss:0.12 | accuracy:0.965261\n",
      "Train | epoch:11 | Loss:0.12 | accuracy:0.967565\n",
      "Train | epoch:12 | Loss:0.11 | accuracy:0.970069\n",
      "Train | epoch:13 | Loss:0.10 | accuracy:0.970737\n",
      "Train | epoch:14 | Loss:0.10 | accuracy:0.973090\n",
      "Train | epoch:15 | Loss:0.09 | accuracy:0.973257\n",
      "Train | epoch:16 | Loss:0.09 | accuracy:0.975761\n",
      "Train | epoch:17 | Loss:0.09 | accuracy:0.976496\n",
      "Train | epoch:18 | Loss:0.08 | accuracy:0.977330\n",
      "Train | epoch:19 | Loss:0.08 | accuracy:0.977497\n",
      "Train | epoch:20 | Loss:0.08 | accuracy:0.976880\n",
      "Train | epoch:21 | Loss:0.07 | accuracy:0.979968\n",
      "Train | epoch:22 | Loss:0.07 | accuracy:0.979501\n",
      "Train | epoch:23 | Loss:0.07 | accuracy:0.980402\n",
      "Train | epoch:24 | Loss:0.07 | accuracy:0.980753\n",
      "Train | epoch:25 | Loss:0.07 | accuracy:0.980786\n",
      "Train | epoch:26 | Loss:0.07 | accuracy:0.980552\n",
      "Train | epoch:27 | Loss:0.06 | accuracy:0.981704\n",
      "Train | epoch:28 | Loss:0.06 | accuracy:0.983524\n",
      "Train | epoch:29 | Loss:0.07 | accuracy:0.982188\n",
      "Train | epoch:30 | Loss:0.07 | accuracy:0.981637\n",
      "Testing started\n",
      "Test accuracy as per 155 dataLoader is 0.98\n"
     ]
    }
   ],
   "source": [
    "batch_size = 64\n",
    "input_size = 28\n",
    "hidden_size = 150\n",
    "output_size = 10\n",
    "learning_rate = 0.0005\n",
    "#initalize model\n",
    "\n",
    "Rnn_mode1 = Rnn_for_MNIST(batch_size=batch_size, in_size=input_size, out_size= output_size, hidden_size = hidden_size)\n",
    " #Train\n",
    "train_network(Rnn_mode1, train_data, test_data, num_epoch=30, learning_rate=learning_rate)\n"
   ]
  },
  {
   "cell_type": "code",
   "execution_count": 53,
   "id": "ce3e6850",
   "metadata": {},
   "outputs": [],
   "source": [
    "class MultiRnn(nn.Module):\n",
    "    def __init__(self, input_size, hidden_size,layer_size, output_size, relu: True):\n",
    "        super(MultiRnn, self).__init__()\n",
    "        self.input_size, self.hidden_size, self.layer_size, self.output_size = input_size, hidden_size, layer_size, output_size\n",
    "        \n",
    "        if relu:\n",
    "            self.rnn = nn.RNN(self.input_size, self.hidden_size, layer_size, batch_first = True, nonlinearity = 'relu')\n",
    "        else:\n",
    "            self.rnn = nn.RNN(input_size, hidden_size, layer_size, batch_first = True, nonlinearity = 'tanh')\n",
    "            \n",
    "        \n",
    "        self.fnn = nn.Linear(hidden_size, output_size)\n",
    "        \n",
    "    def forward(self, images, prints = False):\n",
    "        if prints: print(images.shape)\n",
    "        \n",
    "        hidden_state = torch.zeros(self.layer_size, images.size(0), self.hidden_size)\n",
    "        hidden_state = hidden_state.requires_grad_()\n",
    "        if prints: print(\"shape of first hidden state:\",hidden_state.shape)\n",
    "        \n",
    "        #RNN\n",
    "        #to solve vanishing gradient problem we are using .detach()\n",
    "        \n",
    "        output, hidden_state= self.rnn(images, hidden_state.detach())\n",
    "        if prints: print( \"Shape of Rnn layre is output:\", output.shape,\"\\n\" +\"shpae of hidden layer:\", hidden_state.shape)\n",
    "        \n",
    "        #we get rid of second dimentions:\n",
    "        output = output[:, -1, :]\n",
    "        if prints: print(\"output.shpae\",output.shape)\n",
    "        fcnn_out = self.fnn(output)\n",
    "        \n",
    "        if prints : print(\"fcnn_output shape is:\", fcnn_out.shape)\n",
    "        return fcnn_out"
   ]
  },
  {
   "cell_type": "code",
   "execution_count": 57,
   "id": "835428dd",
   "metadata": {},
   "outputs": [],
   "source": [
    "batch_size =64\n",
    "input_size = 28\n",
    "output_size = 10\n",
    "hidden_size = 100\n",
    "layer_size = 3\n"
   ]
  },
  {
   "cell_type": "code",
   "execution_count": 58,
   "id": "3597da8d",
   "metadata": {},
   "outputs": [
    {
     "name": "stdout",
     "output_type": "stream",
     "text": [
      "Orignal images shape torch.Size([64, 1, 28, 28])\n",
      "input image shape: torch.Size([64, 28, 28])\n",
      "MultiRnn(\n",
      "  (rnn): RNN(28, 100, num_layers=3, batch_first=True)\n",
      "  (fnn): Linear(in_features=100, out_features=10, bias=True)\n",
      ")\n",
      "torch.Size([64, 28, 28])\n",
      "shape of first hidden state: torch.Size([3, 64, 100])\n",
      "Shape of Rnn layre is output: torch.Size([64, 28, 100]) \n",
      "shpae of hidden layer: torch.Size([3, 64, 100])\n",
      "output.shpae torch.Size([64, 100])\n",
      "fcnn_output shape is: torch.Size([64, 10])\n",
      "torch.Size([64, 10])\n"
     ]
    }
   ],
   "source": [
    "train_loader = torch.utils.data.DataLoader(train_data, batch_size = 64)\n",
    "\n",
    "#train single batch of image:\n",
    "images, labels = next(iter(train_loader))\n",
    "\n",
    "print(\"Orignal images shape\",images.shape)\n",
    "#remove channels from images:\n",
    "images = images.reshape(-1,28,28)\n",
    "print(\"input image shape:\" , images.shape)\n",
    "\n",
    "multi_layer_rnn = MultiRnn(input_size,hidden_size, layer_size, output_size,relu= True)\n",
    "print(multi_layer_rnn)\n",
    "\n",
    "out = multi_layer_rnn(images, prints = True)\n",
    "print(out.shape)"
   ]
  },
  {
   "cell_type": "code",
   "execution_count": 7,
   "id": "2a10d7e5",
   "metadata": {},
   "outputs": [],
   "source": [
    "def train_function(model, train_data, test_data, batch_size, num_epochs = 1, lr_rt = 0.001):\n",
    "    \n",
    "    train_loader = torch.utils.data.DataLoader(train_data, batch_size=batch_size, shuffle=True, drop_last=True)\n",
    "    test_loader = torch.utils.data.DataLoader(test_data, batch_size= batch_size, shuffle=True, drop_last = True)\n",
    "    test_accuracy = 0\n",
    "    \n",
    "    print(\"training is started\")\n",
    "    \n",
    "    for i in range(num_epochs):\n",
    "        train_loss = 0\n",
    "        train_accuracy = 0\n",
    "        \n",
    "        critereion = nn.CrossEntropyLoss()\n",
    "        optimizer = optim.Adam(model.parameters() ,lr=lr_rt)\n",
    "        model.train()\n",
    "        \n",
    "        for k,(images, labels) in enumerate(train_loader):\n",
    "            \n",
    "            images= images.reshape(-1, 28, 28)\n",
    "            \n",
    "            out = model(images)\n",
    "            \n",
    "            optimizer.zero_grad()\n",
    "            \n",
    "            loss = critereion(out, labels)\n",
    "            \n",
    "            loss.backward()\n",
    "            \n",
    "            optimizer.step()\n",
    "            \n",
    "            train_loss += loss.item()\n",
    "            \n",
    "            train_accuracy += get_accuracy(out, labels, batch_size)\n",
    "            \n",
    "        print(\"Trining at :{} epoch has train loss: {:.2f} and accuracy :{:.3f}\".format(i + 1, train_loss/ k, train_accuracy / k ))\n",
    "        \n",
    "    print(\"testing started\")\n",
    "    \n",
    "    model.eval()\n",
    "    \n",
    "    for k,(images, labels) in enumerate(test_loader):\n",
    "        \n",
    "        images = images.reshape(-1,28, 28)\n",
    "        \n",
    "        \n",
    "        \n",
    "        test_loss = 0\n",
    "        \n",
    "        test_out = model(images)\n",
    "        \n",
    "       # test_loss += critereion(test_out, labels).detach()\n",
    "        test_accuracy += get_accuracy(test_out, labels, batch_size)\n",
    "    print(k, test_accuracy)\n",
    "    print(\"Testing loss: {} and accuracy :{}\".format(test_loss / k , test_accuracy / k))\n",
    "    "
   ]
  },
  {
   "cell_type": "code",
   "execution_count": 60,
   "id": "2efb87e2",
   "metadata": {},
   "outputs": [
    {
     "name": "stdout",
     "output_type": "stream",
     "text": [
      "training is started\n",
      "Trining at :1 epoch has train loss: 0.68 and accuracy :0.764\n",
      "Trining at :2 epoch has train loss: 0.21 and accuracy :0.939\n",
      "Trining at :3 epoch has train loss: 0.16 and accuracy :0.954\n",
      "Trining at :4 epoch has train loss: 0.13 and accuracy :0.964\n",
      "Trining at :5 epoch has train loss: 0.11 and accuracy :0.970\n",
      "Trining at :6 epoch has train loss: 0.09 and accuracy :0.973\n",
      "Trining at :7 epoch has train loss: 0.08 and accuracy :0.976\n",
      "Trining at :8 epoch has train loss: 0.08 and accuracy :0.978\n",
      "Trining at :9 epoch has train loss: 0.08 and accuracy :0.980\n",
      "Trining at :10 epoch has train loss: 0.07 and accuracy :0.980\n",
      "testing started\n",
      "155 153.15625\n",
      "Testing loss: 0.0 and accuracy :0.9881048387096775\n"
     ]
    }
   ],
   "source": [
    "num_epochs = 10\n",
    "learning_rate = 0.001\n",
    "\n",
    "\n",
    "train_function(multi_layer_rnn, train_data, test_data, batch_size, num_epochs = num_epochs, lr_rt = learning_rate)"
   ]
  },
  {
   "cell_type": "code",
   "execution_count": 23,
   "id": "a11a7c22",
   "metadata": {},
   "outputs": [],
   "source": [
    "class LSTM(nn.Module):\n",
    "    def __init__(self, input_size, hidden_size, output_size, layer_size, bidirectional = True):\n",
    "        super(LSTM, self).__init__()\n",
    "        self.input_size, self.hidden_size, self.layer_size, self.output_size = input_size, hidden_size, layer_size, output_size\n",
    "        self.bidirectional = bidirectional\n",
    "        #step 1 LSTM\n",
    "        self.lstm = nn.LSTM(input_size, hidden_size, layer_size, batch_first= True, bidirectional = bidirectional)\n",
    "        \n",
    "        #step 2 FNN\n",
    "        \n",
    "        if bidirectional:\n",
    "            self.fnn = nn.Linear(hidden_size * 2, output_size)\n",
    "        else:\n",
    "            self.fnn = nn.Linear(hidden_size, output_size)\n",
    "    \n",
    "    \n",
    "    def forward(self, images, prints = False):\n",
    "        if prints: print(\"image shape\",images.shape,images.size(1))\n",
    "        \n",
    "        if self.bidirectional:\n",
    "            hidden_state = torch.zeros(self.layer_size *2, images.size(0), self.hidden_size)\n",
    "            cell_state = torch.zeros(self.layer_size *2, images.size(0), self.hidden_size)\n",
    "            \n",
    "        else:\n",
    "            hidden_state = torch.zeros(self.layer_size, images.size(0), self.hidden_size)\n",
    "            cell_state = torch.zeros(self.layer_size, images.size(0), self.hidden_size)\n",
    "            \n",
    "        if prints: print(\"hidden state: {}, cell state:{}\".format(hidden_state.shape, cell_state.shape))\n",
    "        \n",
    "        output, (last_hidden_state, last_cell_state) = self.lstm(images, (hidden_state, cell_state))\n",
    "        \n",
    "        if prints: \n",
    "            print(\"output shape:\", output.shape, \"\\n\" + \"hidden state:\", last_hidden_state.shape, \"\\n\" + \"cell state:\", last_cell_state.shape)\n",
    "            \n",
    "        output = output[:,-1,:]\n",
    "        \n",
    "        if prints: print(\"output shape:\", output.shape)\n",
    "        \n",
    "        #FNN\n",
    "        output = self.fnn(output)\n",
    "        if prints: print(\"Fnn layer output:\", output.shape)\n",
    "        return output\n",
    "        "
   ]
  },
  {
   "cell_type": "code",
   "execution_count": 24,
   "id": "b6cb0f78",
   "metadata": {},
   "outputs": [],
   "source": [
    "batch_size = 64\n",
    "input_size = 28\n",
    "hidden_size = 128\n",
    "output_size = 10\n",
    "layer_size = 2\n"
   ]
  },
  {
   "cell_type": "code",
   "execution_count": 25,
   "id": "e65f691e",
   "metadata": {},
   "outputs": [
    {
     "name": "stdout",
     "output_type": "stream",
     "text": [
      "orignal Image shape: torch.Size([64, 1, 28, 28])\n",
      "Reshaped images shape: torch.Size([64, 28, 28])\n",
      "image shape torch.Size([64, 28, 28]) 28\n",
      "hidden state: torch.Size([20, 64, 128]), cell state:torch.Size([20, 64, 128])\n",
      "output shape: torch.Size([64, 28, 256]) \n",
      "hidden state: torch.Size([20, 64, 128]) \n",
      "cell state: torch.Size([20, 64, 128])\n",
      "output shape: torch.Size([64, 256])\n",
      "Fnn layer output: torch.Size([64, 2])\n"
     ]
    }
   ],
   "source": [
    "#for one batch\n",
    "lstm = LSTM(input_size, hidden_size, layer_size, output_size, bidirectional= True)\n",
    "#load one batch\n",
    "\n",
    "train_loader_example = torch.utils.data.DataLoader(train_data, batch_size=batch_size)\n",
    "images, labels = next(iter(train_loader_example))\n",
    "\n",
    "print(\"orignal Image shape:\", images.shape)\n",
    "\n",
    "images = images.reshape(-1,28,28)\n",
    "\n",
    "print(\"Reshaped images shape:\", images.shape)\n",
    "\n",
    "out = lstm(images,prints = True)\n"
   ]
  },
  {
   "cell_type": "code",
   "execution_count": 29,
   "id": "7c787d12",
   "metadata": {},
   "outputs": [
    {
     "name": "stdout",
     "output_type": "stream",
     "text": [
      "training is started\n",
      "Trining at :1 epoch has train loss: 0.45 and accuracy :0.852\n",
      "Trining at :2 epoch has train loss: 0.13 and accuracy :0.964\n",
      "Trining at :3 epoch has train loss: 0.08 and accuracy :0.976\n",
      "Trining at :4 epoch has train loss: 0.07 and accuracy :0.981\n",
      "Trining at :5 epoch has train loss: 0.05 and accuracy :0.985\n",
      "Trining at :6 epoch has train loss: 0.04 and accuracy :0.987\n",
      "Trining at :7 epoch has train loss: 0.04 and accuracy :0.990\n",
      "Trining at :8 epoch has train loss: 0.03 and accuracy :0.991\n",
      "Trining at :9 epoch has train loss: 0.03 and accuracy :0.992\n",
      "Trining at :10 epoch has train loss: 0.03 and accuracy :0.993\n",
      "testing started\n",
      "155 153.71875\n",
      "Testing loss: 0.0 and accuracy :0.9917338709677419\n"
     ]
    }
   ],
   "source": [
    "lstm_full = LSTM(input_size, hidden_size=hidden_size, layer_size=layer_size, output_size = output_size)\n",
    "\n",
    "train_function(lstm_full, train_data, test_data, batch_size= batch_size, num_epochs= 10)"
   ]
  },
  {
   "cell_type": "code",
   "execution_count": 35,
   "id": "edfed23b",
   "metadata": {},
   "outputs": [],
   "source": [
    "#Now let's create confusion metrics so that we can visulize that what we had confused with what.\n",
    "def get_confusion_metrics(model, test_data):\n",
    "    \n",
    "    #don't use gradients\n",
    "    torch.no_grad()\n",
    "    \n",
    "    #set model to evaluation mode\n",
    "    model.eval()\n",
    "    \n",
    "    true = []\n",
    "    actual = []\n",
    "    #enumerate through the test data\n",
    "    \n",
    "    for image,label in test_data:\n",
    "        \n",
    "        image = image.reshape(-1,28,28)\n",
    "        #give image to model\n",
    "        predict = model(image)\n",
    "        \n",
    "        prediction = torch.max(predict, dim=1)[1].item()\n",
    "        \n",
    "        true.append(prediction)\n",
    "        actual.append(label)\n",
    "        \n",
    "    return sklearn.metrics.confusion_matrix(actual,true)\n"
   ]
  },
  {
   "cell_type": "code",
   "execution_count": 36,
   "id": "4750a254",
   "metadata": {},
   "outputs": [],
   "source": [
    "confusion = get_confusion_metrics(lstm_full, test_data)"
   ]
  },
  {
   "cell_type": "code",
   "execution_count": 42,
   "id": "64230a04",
   "metadata": {},
   "outputs": [
    {
     "name": "stdout",
     "output_type": "stream",
     "text": [
      "[[ 974    0    0    0    1    2    2    1    0    0]\n",
      " [   1 1123    1    1    1    0    4    2    1    1]\n",
      " [   3    0 1024    0    0    0    0    4    1    0]\n",
      " [   0    0    4  997    0    2    0    2    4    1]\n",
      " [   1    0    0    0  952    0    4    0    3   22]\n",
      " [   0    0    0    6    0  881    1    1    2    1]\n",
      " [   4    1    1    0    2    7  941    0    1    1]\n",
      " [   0    3   10    0    5    1    0 1004    1    4]\n",
      " [   1    0    1    2    0    4    1    1  964    0]\n",
      " [   0    0    0    1    2    7    0    2    4  993]]\n"
     ]
    }
   ],
   "source": [
    "print(confusion)"
   ]
  },
  {
   "cell_type": "code",
   "execution_count": 40,
   "id": "27d25a80",
   "metadata": {},
   "outputs": [
    {
     "data": {
      "image/png": "[encoded data removed]",
      "text/plain": [
       "<Figure size 1600x500 with 2 Axes>"
      ]
     },
     "metadata": {},
     "output_type": "display_data"
    }
   ],
   "source": [
    "plt.figure(figsize=(16,5))\n",
    "sns.heatmap(confusion,cmap = 'icefire', annot= True, linewidths=0.1,fmt =',' )\n",
    "plt.title(\"Confusion  Matrix:\",fontsize = 30);"
   ]
  },
  {
   "cell_type": "code",
   "execution_count": 44,
   "id": "90eb2dd4",
   "metadata": {},
   "outputs": [
    {
     "data": {
      "text/plain": [
       "'C:\\\\Users\\\\shwet'"
      ]
     },
     "execution_count": 44,
     "metadata": {},
     "output_type": "execute_result"
    }
   ],
   "source": [
    "pwd"
   ]
  },
  {
   "cell_type": "code",
   "execution_count": null,
   "id": "bc90ee30",
   "metadata": {},
   "outputs": [],
   "source": []
  }
 ],
 "metadata": {
  "kernelspec": {
   "display_name": "Python 3 (ipykernel)",
   "language": "python",
   "name": "python3"
  },
  "language_info": {
   "codemirror_mode": {
    "name": "ipython",
    "version": 3
   },
   "file_extension": ".py",
   "mimetype": "text/x-python",
   "name": "python",
   "nbconvert_exporter": "python",
   "pygments_lexer": "ipython3",
   "version": "3.9.13"
  }
 },
 "nbformat": 4,
 "nbformat_minor": 5
}
